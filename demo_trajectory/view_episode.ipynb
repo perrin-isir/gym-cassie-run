{
 "cells": [
  {
   "cell_type": "code",
   "execution_count": null,
   "id": "ba066f02-e82f-4c25-95f1-de016c030b9d",
   "metadata": {},
   "outputs": [],
   "source": [
    "import os, gym_cassie_run, mujoco_notebook_replay\n",
    "mujoco_notebook_replay.mujoco_notebook_replay(\"./\", width=1100, height=650)"
   ]
  }
 ],
 "metadata": {
  "kernelspec": {
   "display_name": "Python 3 (ipykernel)",
   "language": "python",
   "name": "python3"
  },
  "language_info": {
   "codemirror_mode": {
    "name": "ipython",
    "version": 3
   },
   "file_extension": ".py",
   "mimetype": "text/x-python",
   "name": "python",
   "nbconvert_exporter": "python",
   "pygments_lexer": "ipython3",
   "version": "3.10.12"
  }
 },
 "nbformat": 4,
 "nbformat_minor": 5
}
