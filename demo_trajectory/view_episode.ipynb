{
 "cells": [
  {
   "cell_type": "code",
   "execution_count": null,
   "id": "ba066f02-e82f-4c25-95f1-de016c030b9d",
   "metadata": {},
   "outputs": [],
   "source": [
    "import os\n",
    "from IPython.display import clear_output, HTML, display\n",
    "from mujoco_notebook_replay import mujoco_notebook_replay\n",
    "import gym_cassie_run\n",
    "save_dir = \".\"\n",
    "mujoco_notebook_replay(save_dir, width=1050, height=600)"
   ]
  }
 ],
 "metadata": {
  "kernelspec": {
   "display_name": "Python 3 (ipykernel)",
   "language": "python",
   "name": "python3"
  },
  "language_info": {
   "codemirror_mode": {
    "name": "ipython",
    "version": 3
   },
   "file_extension": ".py",
   "mimetype": "text/x-python",
   "name": "python",
   "nbconvert_exporter": "python",
   "pygments_lexer": "ipython3",
   "version": "3.10.12"
  }
 },
 "nbformat": 4,
 "nbformat_minor": 5
}
